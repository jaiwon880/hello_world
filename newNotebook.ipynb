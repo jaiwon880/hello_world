{
 "cells": [
  {
   "cell_type": "markdown",
   "id": "2f488a2b",
   "metadata": {},
   "source": [
    "일반적인 텍스트를 입력할 수 있다.\n",
    "한 줄 더 입력합니다."
   ]
  },
  {
   "cell_type": "code",
   "execution_count": 3,
   "id": "d9910551",
   "metadata": {},
   "outputs": [
    {
     "name": "stdout",
     "output_type": "stream",
     "text": [
      "Hello\n"
     ]
    }
   ],
   "source": [
    "print('Hello')"
   ]
  },
  {
   "cell_type": "markdown",
   "id": "4e68ccd4",
   "metadata": {},
   "source": [
    "![노트북 화면 예시](https://jupyter.org/assets/jupyterpreview.png)"
   ]
  },
  {
   "cell_type": "code",
   "execution_count": 4,
   "id": "cfea6e16",
   "metadata": {},
   "outputs": [
    {
     "name": "stdout",
     "output_type": "stream",
     "text": [
      "4\n"
     ]
    }
   ],
   "source": [
    "print(1+3)"
   ]
  },
  {
   "cell_type": "markdown",
   "id": "e9dd67fa",
   "metadata": {},
   "source": [
    "[주피터 공식 웹 사이트](https://jupyter.org/)에서 퍼온 그림입니다. "
   ]
  },
  {
   "cell_type": "code",
   "execution_count": null,
   "id": "5c0a3bd3",
   "metadata": {},
   "outputs": [],
   "source": []
  }
 ],
 "metadata": {
  "kernelspec": {
   "display_name": "Python 3",
   "language": "python",
   "name": "python3"
  },
  "language_info": {
   "codemirror_mode": {
    "name": "ipython",
    "version": 3
   },
   "file_extension": ".py",
   "mimetype": "text/x-python",
   "name": "python",
   "nbconvert_exporter": "python",
   "pygments_lexer": "ipython3",
   "version": "3.8.8"
  }
 },
 "nbformat": 4,
 "nbformat_minor": 5
}
